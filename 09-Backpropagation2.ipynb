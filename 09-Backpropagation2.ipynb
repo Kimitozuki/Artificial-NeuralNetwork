{
  "cells": [
    {
      "cell_type": "markdown",
      "metadata": {
        "id": "rN4jkVPCdRS5"
      },
      "source": [
        "### One-hot encoder & decoder"
      ]
    },
    {
      "cell_type": "code",
      "execution_count": 1,
      "metadata": {
        "id": "nDPnnEfSdIp4"
      },
      "outputs": [],
      "source": [
        "import numpy as np\n",
        "\n",
        "def onehot_enc(lbl, min_val=0):\n",
        "  mi = min(lbl)\n",
        "  enc = np.full((len(lbl), max(lbl) - mi + 1), min_val, np.int8)\n",
        "  for i, x in enumerate(lbl):\n",
        "    enc[i, x - mi] = 1\n",
        "  return enc\n",
        "\n",
        "def onehot_dec(enc, mi=0):\n",
        "  return [np.argmax(e) + mi for e in enc]"
      ]
    },
    {
      "cell_type": "markdown",
      "metadata": {
        "id": "H6pSqRI3dXVD"
      },
      "source": [
        "### Fungsi Aktivasi sigmoid dan turunannya"
      ]
    },
    {
      "cell_type": "code",
      "execution_count": 2,
      "metadata": {
        "id": "KFizxC7mdiEL"
      },
      "outputs": [],
      "source": [
        "def sig(X):\n",
        "  return [1 / (1 + np.exp(-x)) for x in X]\n",
        "\n",
        "def sigd(X):\n",
        "  output = []\n",
        "  for i, x in enumerate(X):\n",
        "    s = sig([x])[0]\n",
        "    output.append(s * (1 - s))\n",
        "  return output"
      ]
    },
    {
      "cell_type": "markdown",
      "metadata": {
        "id": "uBWKtwvcchyU"
      },
      "source": [
        "### BackPropagation (2)"
      ]
    },
    {
      "cell_type": "markdown",
      "metadata": {
        "id": "vztkP92AbqcY"
      },
      "source": [
        "#### a) Fungsi Backpropagation"
      ]
    },
    {
      "cell_type": "code",
      "execution_count": 3,
      "metadata": {
        "id": "Qo7Av2-CbqRZ"
      },
      "outputs": [],
      "source": [
        "def bp_fit(X, target, layer_conf, max_epoch, max_error=.1,learn_rate=.1, print_per_epoch=100):\n",
        "  np.random.seed(1)\n",
        "  nin = [np.empty(i) for i in layer_conf] \n",
        "  n = [np.empty(j + 1) if i < len(layer_conf) - 1 else np.empty(j) for i, j in enumerate(layer_conf)]\n",
        "  w = np.array([np.random.rand(layer_conf[i] + 1, layer_conf[i +1]) for i in range(len(layer_conf) - 1)])\n",
        "  dw = [np.empty((layer_conf[i] + 1, layer_conf[i + 1])) for i in range(len(layer_conf) - 1)]\n",
        "  d = [np.empty(s) for s in layer_conf[1:]]\n",
        "  din = [np.empty(s) for s in layer_conf[1:-1]]\n",
        "  epoch = 0\n",
        "  mse = 1\n",
        "\n",
        "  for i in range(0, len(n)-1):\n",
        "    n[i][-1] = 1\n",
        "  \n",
        "  while (max_epoch == -1 or epoch < max_epoch) and mse > max_error:\n",
        "    epoch += 1\n",
        "    mse = 0\n",
        "    for r in range(len(X)):\n",
        "      n[0][:-1] = X[r]\n",
        "      \n",
        "      #Forward\n",
        "      for L in range(1, len(layer_conf)):\n",
        "        nin[L] = np.dot(n[L-1], w[L-1])\n",
        "        n[L][:len(nin[L])] = sig(nin[L])\n",
        "      \n",
        "      #Backprop (output)\n",
        "      e = target[r] - n[-1]\n",
        "      mse += sum(e ** 2)\n",
        "      d[-1] = e * sigd(nin[-1])\n",
        "      dw[-1] = learn_rate * d[-1] * n[-2].reshape((-1, 1))\n",
        "      \n",
        "      #Backprop (selain output)\n",
        "      for L in range(len(layer_conf) - 1, 1, -1):\n",
        "        din[L-2] = np.dot(d[L-1],np.transpose(w[L-1][:-1]))\n",
        "        d[L-2] = din[L-2] * np.array(sigd(nin[L-1]))\n",
        "        dw[L-2] = (learn_rate * d[L-2]) * n[L-2].reshape((-1, 1))\n",
        "      \n",
        "      #Update bobot\n",
        "      w += dw\n",
        "    \n",
        "    mse /= len(X)\n",
        "        \n",
        "    if print_per_epoch > -1 and epoch % print_per_epoch == 0:\n",
        "      print(f'Epoch {epoch}, MSE: {mse}')\n",
        "\n",
        "  return w, epoch, mse"
      ]
    },
    {
      "cell_type": "markdown",
      "metadata": {
        "id": "Z4VkIOu-cbox"
      },
      "source": [
        "#### b) Fungsi Testing Backpropagation"
      ]
    },
    {
      "cell_type": "code",
      "execution_count": 4,
      "metadata": {
        "id": "8nClgVXCcZds"
      },
      "outputs": [],
      "source": [
        "def bp_predict(X, w):\n",
        "  n = [np.empty(len(i)) for i in w]\n",
        "  nin = [np.empty(len(i[0])) for i in w]\n",
        "  predict = []\n",
        "  \n",
        "  n.append(np.empty(len(w[-1][0])))\n",
        "  \n",
        "  #tambahan (nilai input bias)\n",
        "  for i in range(0, len(n)-1):\n",
        "    n[i][-1]=1\n",
        "\n",
        "  for x in X:\n",
        "    n[0][:-1] = x\n",
        "    \n",
        "    for L in range(0, len(w)):\n",
        "      nin[L] = np.dot(n[L], w[L])\n",
        "      n[L + 1][:len(nin[L])] = sig(nin[L])\n",
        "      \n",
        "    predict.append(n[-1].copy()) \n",
        "  \n",
        "  return predict"
      ]
    },
    {
      "cell_type": "markdown",
      "metadata": {
        "id": "00Ay7zE6d9ux"
      },
      "source": [
        "#### c) Percobaan Klasifikasi Dataset Iris"
      ]
    },
    {
      "cell_type": "code",
      "execution_count": 50,
      "metadata": {
        "colab": {
          "base_uri": "https://localhost:8080/"
        },
        "id": "X1A-IwIQdvWV",
        "outputId": "34a7560f-e1e1-4ab3-ffe8-998c492ff98d"
      },
      "outputs": [
        {
          "name": "stderr",
          "output_type": "stream",
          "text": [
            "C:\\Users\\WILDAN~1\\AppData\\Local\\Temp/ipykernel_23560/1099056643.py:5: VisibleDeprecationWarning: Creating an ndarray from ragged nested sequences (which is a list-or-tuple of lists-or-tuples-or ndarrays with different lengths or shapes) is deprecated. If you meant to do this, you must specify 'dtype=object' when creating the ndarray.\n",
            "  w = np.array([np.random.rand(layer_conf[i] + 1, layer_conf[i +1]) for i in range(len(layer_conf) - 1)])\n",
            "C:\\Users\\WILDAN~1\\AppData\\Local\\Temp/ipykernel_23560/1099056643.py:39: VisibleDeprecationWarning: Creating an ndarray from ragged nested sequences (which is a list-or-tuple of lists-or-tuples-or ndarrays with different lengths or shapes) is deprecated. If you meant to do this, you must specify 'dtype=object' when creating the ndarray.\n",
            "  w += dw\n"
          ]
        },
        {
          "name": "stdout",
          "output_type": "stream",
          "text": [
            "Epoch 25, MSE: 0.40019741902184314\n",
            "Epoch 50, MSE: 0.3006932940488159\n",
            "Epoch 75, MSE: 0.253162485458513\n",
            "Epoch 100, MSE: 0.18785482392338607\n",
            "Epoch 125, MSE: 0.12936955636385972\n",
            "Epoch 150, MSE: 0.09646231410288623\n",
            "Epoch 175, MSE: 0.07893411853258761\n",
            "Epoch 200, MSE: 0.06884237603253064\n",
            "Epoch 225, MSE: 0.06251192781134572\n",
            "Epoch 250, MSE: 0.05823246577773652\n",
            "Epoch 275, MSE: 0.05515714947170537\n",
            "Epoch 300, MSE: 0.0528378911150412\n",
            "Epoch 325, MSE: 0.051022183853091665\n",
            "Epoch 350, MSE: 0.049559265780986815\n",
            "Epoch 375, MSE: 0.04835428515157116\n",
            "Epoch 400, MSE: 0.04734469107899502\n",
            "Epoch 425, MSE: 0.046487462619307016\n",
            "Epoch 450, MSE: 0.04575188704085404\n",
            "Epoch 475, MSE: 0.04511530920543384\n",
            "Epoch 500, MSE: 0.04456053723865837\n",
            "Epoch 525, MSE: 0.04407420543865651\n",
            "Epoch 550, MSE: 0.04364570856836884\n",
            "Epoch 575, MSE: 0.04326648734867177\n",
            "Epoch 600, MSE: 0.04292953575851117\n",
            "Epoch 625, MSE: 0.042629052080726315\n",
            "Epoch 650, MSE: 0.042360185461381795\n",
            "Epoch 675, MSE: 0.04211884750587719\n",
            "Epoch 700, MSE: 0.04190156923320104\n",
            "Epoch 725, MSE: 0.04170539040740597\n",
            "Epoch 750, MSE: 0.04152777249829324\n",
            "Epoch 775, MSE: 0.04136652924809576\n",
            "Epoch 800, MSE: 0.041219770607664456\n",
            "Epoch 825, MSE: 0.04108585699953025\n",
            "Epochs: 843, MSE: 0.040996584442322105\n",
            "Output: [0, 1, 1, 0, 2, 1, 2, 0, 0, 2, 1, 0, 2, 1, 1, 0, 1, 1, 0, 0, 1, 1, 1, 0, 2, 1, 0, 0, 1, 2, 1, 2, 1, 2, 2, 0, 1, 0, 1, 2, 2, 0, 2, 2, 1]\n",
            "True : [0, 1, 1, 0, 2, 1, 2, 0, 0, 2, 1, 0, 2, 1, 1, 0, 1, 1, 0, 0, 1, 1, 1, 0, 2, 1, 0, 0, 1, 2, 1, 2, 1, 2, 2, 0, 1, 0, 1, 2, 2, 0, 2, 2, 1]\n",
            "Accuracy: 1.0\n"
          ]
        }
      ],
      "source": [
        "from sklearn import datasets\n",
        "from sklearn.model_selection import train_test_split\n",
        "from sklearn.preprocessing import minmax_scale\n",
        "from sklearn.metrics import accuracy_score\n",
        "\n",
        "iris = datasets.load_iris()\n",
        "X = minmax_scale(iris.data)\n",
        "Y = onehot_enc(iris.target)\n",
        "\n",
        "X_train, X_test, y_train, y_test = train_test_split(X, Y,test_size=.3,random_state=1)\n",
        "w, ep, mse = bp_fit(X_train, y_train, layer_conf=(4, 5, 3),learn_rate=.1, max_epoch=1000, max_error=.041, print_per_epoch=25)\n",
        "\n",
        "print(f'Epochs: {ep}, MSE: {mse}')\n",
        "\n",
        "predict = bp_predict(X_test, w)\n",
        "predict = onehot_dec(predict)\n",
        "y_test = onehot_dec(y_test)\n",
        "accuracy = accuracy_score(predict, y_test)\n",
        "print('Output:', predict)\n",
        "print('True :', y_test)\n",
        "print('Accuracy:', accuracy)"
      ]
    }
  ],
  "metadata": {
    "colab": {
      "provenance": []
    },
    "kernelspec": {
      "display_name": "Python 3.9.7 64-bit",
      "language": "python",
      "name": "python3"
    },
    "language_info": {
      "codemirror_mode": {
        "name": "ipython",
        "version": 3
      },
      "file_extension": ".py",
      "mimetype": "text/x-python",
      "name": "python",
      "nbconvert_exporter": "python",
      "pygments_lexer": "ipython3",
      "version": "3.9.7"
    },
    "vscode": {
      "interpreter": {
        "hash": "491627a4fc731919225a74fe1d545c8f56a0e4475e4af57e9541110a388ab038"
      }
    }
  },
  "nbformat": 4,
  "nbformat_minor": 0
}
