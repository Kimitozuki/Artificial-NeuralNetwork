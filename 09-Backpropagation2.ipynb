{
  "cells": [
    {
      "cell_type": "markdown",
      "metadata": {
        "id": "rN4jkVPCdRS5"
      },
      "source": [
        "### One-hot encoder & decoder"
      ]
    },
    {
      "cell_type": "code",
      "execution_count": 1,
      "metadata": {
        "id": "nDPnnEfSdIp4"
      },
      "outputs": [],
      "source": [
        "import numpy as np\n",
        "\n",
        "def onehot_enc(lbl, min_val=0):\n",
        "  mi = min(lbl)\n",
        "  enc = np.full((len(lbl), max(lbl) - mi + 1), min_val, np.int8)\n",
        "  for i, x in enumerate(lbl):\n",
        "    enc[i, x - mi] = 1\n",
        "  return enc\n",
        "\n",
        "def onehot_dec(enc, mi=0):\n",
        "  return [np.argmax(e) + mi for e in enc]"
      ]
    },
    {
      "cell_type": "markdown",
      "metadata": {
        "id": "H6pSqRI3dXVD"
      },
      "source": [
        "### Fungsi Aktivasi sigmoid dan turunannya"
      ]
    },
    {
      "cell_type": "code",
      "execution_count": 2,
      "metadata": {
        "id": "KFizxC7mdiEL"
      },
      "outputs": [],
      "source": [
        "def sig(X):\n",
        "  return [1 / (1 + np.exp(-x)) for x in X]\n",
        "\n",
        "def sigd(X):\n",
        "  output = []\n",
        "  for i, x in enumerate(X):\n",
        "    s = sig([x])[0]\n",
        "    output.append(s * (1 - s))\n",
        "  return output"
      ]
    },
    {
      "cell_type": "markdown",
      "metadata": {
        "id": "uBWKtwvcchyU"
      },
      "source": [
        "### BackPropagation (2)"
      ]
    },
    {
      "cell_type": "markdown",
      "metadata": {
        "id": "vztkP92AbqcY"
      },
      "source": [
        "#### a) Fungsi Backpropagation"
      ]
    },
    {
      "cell_type": "code",
      "execution_count": 3,
      "metadata": {
        "id": "Qo7Av2-CbqRZ"
      },
      "outputs": [],
      "source": [
        "def bp_fit(X, target, layer_conf, max_epoch, max_error=.1,learn_rate=.1, print_per_epoch=100):\n",
        "  np.random.seed(1)\n",
        "  nin = [np.empty(i) for i in layer_conf] \n",
        "  n = [np.empty(j + 1) if i < len(layer_conf) - 1 else np.empty(j) for i, j in enumerate(layer_conf)]\n",
        "  w = np.array([np.random.rand(layer_conf[i] + 1, layer_conf[i +1]) for i in range(len(layer_conf) - 1)])\n",
        "  dw = [np.empty((layer_conf[i] + 1, layer_conf[i + 1])) for i in range(len(layer_conf) - 1)]\n",
        "  d = [np.empty(s) for s in layer_conf[1:]]\n",
        "  din = [np.empty(s) for s in layer_conf[1:-1]]\n",
        "  epoch = 0\n",
        "  mse = 1\n",
        "\n",
        "  for i in range(0, len(n)-1):\n",
        "    n[i][-1] = 1\n",
        "  \n",
        "  while (max_epoch == -1 or epoch < max_epoch) and mse > max_error:\n",
        "    epoch += 1\n",
        "    mse = 0\n",
        "    for r in range(len(X)):\n",
        "      n[0][:-1] = X[r]\n",
        "      \n",
        "      #Forward\n",
        "      for L in range(1, len(layer_conf)):\n",
        "        nin[L] = np.dot(n[L-1], w[L-1])\n",
        "        n[L][:len(nin[L])] = sig(nin[L])\n",
        "      \n",
        "      #Backprop (output)\n",
        "      e = target[r] - n[-1]\n",
        "      mse += sum(e ** 2)\n",
        "      d[-1] = e * sigd(nin[-1])\n",
        "      dw[-1] = learn_rate * d[-1] * n[-2].reshape((-1, 1))\n",
        "      \n",
        "      #Backprop (selain output)\n",
        "      for L in range(len(layer_conf) - 1, 1, -1):\n",
        "        din[L-2] = np.dot(d[L-1],np.transpose(w[L-1][:-1]))\n",
        "        d[L-2] = din[L-2] * np.array(sigd(nin[L-1]))\n",
        "        dw[L-2] = (learn_rate * d[L-2]) * n[L-2].reshape((-1, 1))\n",
        "      \n",
        "      #Update bobot\n",
        "      w += dw\n",
        "    \n",
        "    mse /= len(X)\n",
        "        \n",
        "    if print_per_epoch > -1 and epoch % print_per_epoch == 0:\n",
        "      print(f'Epoch {epoch}, MSE: {mse}')\n",
        "\n",
        "  return w, epoch, mse"
      ]
    },
    {
      "cell_type": "markdown",
      "metadata": {
        "id": "Z4VkIOu-cbox"
      },
      "source": [
        "#### b) Fungsi Testing Backpropagation"
      ]
    },
    {
      "cell_type": "code",
      "execution_count": 4,
      "metadata": {
        "id": "8nClgVXCcZds"
      },
      "outputs": [],
      "source": [
        "def bp_predict(X, w):\n",
        "  n = [np.empty(len(i)) for i in w]\n",
        "  nin = [np.empty(len(i[0])) for i in w]\n",
        "  predict = []\n",
        "  \n",
        "  n.append(np.empty(len(w[-1][0])))\n",
        "  \n",
        "  #tambahan (nilai input bias)\n",
        "  for i in range(0, len(n)-1):\n",
        "    n[i][-1]=1\n",
        "\n",
        "  for x in X:\n",
        "    n[0][:-1] = x\n",
        "    \n",
        "    for L in range(0, len(w)):\n",
        "      nin[L] = np.dot(n[L], w[L])\n",
        "      n[L + 1][:len(nin[L])] = sig(nin[L])\n",
        "      \n",
        "    predict.append(n[-1].copy()) \n",
        "  \n",
        "  return predict"
      ]
    },
    {
      "cell_type": "markdown",
      "metadata": {
        "id": "00Ay7zE6d9ux"
      },
      "source": [
        "#### c) Percobaan Klasifikasi Dataset Iris"
      ]
    },
    {
      "cell_type": "code",
      "execution_count": 6,
      "metadata": {},
      "outputs": [],
      "source": [
        "import time"
      ]
    },
    {
      "cell_type": "code",
      "execution_count": 7,
      "metadata": {
        "colab": {
          "base_uri": "https://localhost:8080/"
        },
        "id": "X1A-IwIQdvWV",
        "outputId": "34a7560f-e1e1-4ab3-ffe8-998c492ff98d"
      },
      "outputs": [
        {
          "name": "stdout",
          "output_type": "stream",
          "text": [
            "Epochs: 22, MSE: 0.4932323921629769, Time Execution: 0.18052220344543457\n",
            "Output: [2, 2, 0, 2, 0, 2, 0, 2, 2, 2, 2, 2, 2, 2, 2, 0, 2, 2, 0, 0, 2, 2, 0, 0, 2, 0, 0, 2, 2, 0, 2, 2, 0, 2, 2, 2, 0, 2, 2, 2, 2, 0, 2, 0, 0]\n",
            "True : [2, 1, 0, 2, 0, 2, 0, 1, 1, 1, 2, 1, 1, 1, 1, 0, 1, 1, 0, 0, 2, 1, 0, 0, 2, 0, 0, 1, 1, 0, 2, 1, 0, 2, 2, 1, 0, 1, 1, 1, 2, 0, 2, 0, 0]\n",
            "Accuracy: 0.6\n"
          ]
        },
        {
          "name": "stderr",
          "output_type": "stream",
          "text": [
            "C:\\Users\\Wildan Mufid R\\AppData\\Local\\Temp/ipykernel_22188/1099056643.py:5: VisibleDeprecationWarning: Creating an ndarray from ragged nested sequences (which is a list-or-tuple of lists-or-tuples-or ndarrays with different lengths or shapes) is deprecated. If you meant to do this, you must specify 'dtype=object' when creating the ndarray.\n",
            "  w = np.array([np.random.rand(layer_conf[i] + 1, layer_conf[i +1]) for i in range(len(layer_conf) - 1)])\n",
            "C:\\Users\\Wildan Mufid R\\AppData\\Local\\Temp/ipykernel_22188/1099056643.py:39: VisibleDeprecationWarning: Creating an ndarray from ragged nested sequences (which is a list-or-tuple of lists-or-tuples-or ndarrays with different lengths or shapes) is deprecated. If you meant to do this, you must specify 'dtype=object' when creating the ndarray.\n",
            "  w += dw\n"
          ]
        }
      ],
      "source": [
        "from sklearn import datasets\n",
        "from sklearn.model_selection import train_test_split\n",
        "from sklearn.preprocessing import minmax_scale\n",
        "from sklearn.metrics import accuracy_score\n",
        "\n",
        "iris = datasets.load_iris()\n",
        "X = minmax_scale(iris.data)\n",
        "Y = onehot_enc(iris.target)\n",
        "\n",
        "X_train, X_test, y_train, y_test = train_test_split(X, Y,test_size=.3,random_state=0)\n",
        "start_time = time.time()\n",
        "w, ep, mse = bp_fit(X_train, y_train, layer_conf=(4, 3, 3),learn_rate=.1, max_epoch=100, max_error=.5, print_per_epoch=25)\n",
        "execution = time.time() - start_time\n",
        "print(f'Epochs: {ep}, MSE: {mse}, Time Execution: {execution}')\n",
        "\n",
        "predict = bp_predict(X_test, w)\n",
        "predict = onehot_dec(predict)\n",
        "y_test = onehot_dec(y_test)\n",
        "accuracy = accuracy_score(predict, y_test)\n",
        "print('Output:', predict)\n",
        "print('True :', y_test)\n",
        "print('Accuracy:', accuracy)"
      ]
    }
  ],
  "metadata": {
    "colab": {
      "provenance": []
    },
    "kernelspec": {
      "display_name": "Python 3.9.7 64-bit",
      "language": "python",
      "name": "python3"
    },
    "language_info": {
      "codemirror_mode": {
        "name": "ipython",
        "version": 3
      },
      "file_extension": ".py",
      "mimetype": "text/x-python",
      "name": "python",
      "nbconvert_exporter": "python",
      "pygments_lexer": "ipython3",
      "version": "3.9.7"
    },
    "vscode": {
      "interpreter": {
        "hash": "491627a4fc731919225a74fe1d545c8f56a0e4475e4af57e9541110a388ab038"
      }
    }
  },
  "nbformat": 4,
  "nbformat_minor": 0
}
