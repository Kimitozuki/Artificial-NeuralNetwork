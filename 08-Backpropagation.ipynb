{
  "cells": [
    {
      "cell_type": "markdown",
      "metadata": {
        "id": "jvonXDMsQP1k"
      },
      "source": [
        "# Bab 8 Backpropagation"
      ]
    },
    {
      "cell_type": "markdown",
      "metadata": {
        "id": "sHySaU_QQPg1"
      },
      "source": [
        "## Praktikum"
      ]
    },
    {
      "cell_type": "markdown",
      "metadata": {
        "id": "VwJi4bWUV7MB"
      },
      "source": [
        "### a) Fungsi *Binary Encoding* dan *Decoding*\n",
        "\n",
        "Tulis kode ke dalam *cell* di bawah ini:"
      ]
    },
    {
      "cell_type": "code",
      "execution_count": 1,
      "metadata": {
        "id": "QfwLviqLFfNe"
      },
      "outputs": [],
      "source": [
        "import pandas as pd"
      ]
    },
    {
      "cell_type": "code",
      "execution_count": 2,
      "metadata": {
        "id": "J8cvPULpV-kS"
      },
      "outputs": [],
      "source": [
        "def bin_enc(lbl):\n",
        "  mi = min(lbl)\n",
        "  length = len(bin(max(lbl) - mi + 1)[2:])\n",
        "  enc = []\n",
        "  for i in lbl:\n",
        "    b = bin(i - mi)[2:].zfill(length)\n",
        "    enc.append([int(n) for n in b])\n",
        "  return enc\n",
        "\n",
        "def bin_dec(enc, mi=0):\n",
        "  lbl = []\n",
        "  for e in enc:\n",
        "    rounded = [int(round(x)) for x in e]\n",
        "    string = ''.join(str(x) for x in rounded)\n",
        "    num = int(string, 2) + mi\n",
        "    lbl.append(num)\n",
        "  return lbl"
      ]
    },
    {
      "cell_type": "markdown",
      "metadata": {
        "id": "Scbwoj7YZHvR"
      },
      "source": [
        "### b) Percobaan *Binary Encoding* dan *Decoding*\n",
        "\n",
        "Tulis kode ke dalam *cell* di bawah ini:"
      ]
    },
    {
      "cell_type": "code",
      "execution_count": 3,
      "metadata": {
        "colab": {
          "base_uri": "https://localhost:8080/"
        },
        "id": "MVUsMCJqZOaX",
        "outputId": "6234b86a-aa8c-4b76-b795-070f9daaedb5"
      },
      "outputs": [
        {
          "name": "stdout",
          "output_type": "stream",
          "text": [
            "[[0, 0, 0], [0, 0, 1], [0, 1, 0], [0, 1, 1]]\n",
            "[1, 2, 3, 4]\n"
          ]
        }
      ],
      "source": [
        "labels = 1, 2, 3, 4\n",
        "enc = bin_enc(labels)\n",
        "dec = bin_dec(enc, min(labels))\n",
        "print(enc)\n",
        "print(dec)"
      ]
    },
    {
      "cell_type": "markdown",
      "metadata": {
        "id": "zGdWcpnXYliK"
      },
      "source": [
        "### c) Fungsi *One-hot Encoding* dan *Decoding*\n",
        "\n",
        "Tulis kode ke dalam *cell* di bawah ini:\n"
      ]
    },
    {
      "cell_type": "code",
      "execution_count": 4,
      "metadata": {
        "id": "-dpspq1FYpKV"
      },
      "outputs": [],
      "source": [
        "import numpy as np\n",
        "\n",
        "def onehot_enc(lbl, min_val=0):\n",
        "  mi = min(lbl)\n",
        "  enc = np.full((len(lbl), max(lbl) - mi + 1), min_val, np.int8)\n",
        "  for i, x in enumerate(lbl):\n",
        "    enc[i, x - mi] = 1\n",
        "  return enc\n",
        "\n",
        "def onehot_dec(enc, mi=0):\n",
        "  return [np.argmax(e) + mi for e in enc]"
      ]
    },
    {
      "cell_type": "markdown",
      "metadata": {
        "id": "YYhCRilPY-IX"
      },
      "source": [
        "### d) Percobaan *One-hot Encoding* dan *Decoding*\n",
        "\n",
        "Tulis kode ke dalam *cell* di bawah ini:"
      ]
    },
    {
      "cell_type": "code",
      "execution_count": 5,
      "metadata": {
        "colab": {
          "base_uri": "https://localhost:8080/"
        },
        "id": "XcemATbBaDAV",
        "outputId": "8e9cbaaf-8fbf-40b2-bc18-3c609e4561cf"
      },
      "outputs": [
        {
          "name": "stdout",
          "output_type": "stream",
          "text": [
            "[[1 0 0 0]\n",
            " [0 1 0 0]\n",
            " [0 0 1 0]\n",
            " [0 0 0 1]]\n",
            "[1, 2, 3, 4]\n"
          ]
        }
      ],
      "source": [
        "labels = 1, 2, 3, 4\n",
        "enc = onehot_enc(labels)\n",
        "dec = onehot_dec(enc, min(labels))\n",
        "print(enc)\n",
        "print(dec)"
      ]
    },
    {
      "cell_type": "markdown",
      "metadata": {
        "id": "EdlqM27eQTUj"
      },
      "source": [
        "### e) Fungsi Aktivasi Sigmoid dan Derivatifnya\n",
        "\n",
        "Tulis kode ke dalam *cell* di bawah ini:"
      ]
    },
    {
      "cell_type": "code",
      "execution_count": 6,
      "metadata": {
        "id": "9zxB5G6cP5ml"
      },
      "outputs": [],
      "source": [
        "def sig(X):\n",
        "  return [1 / (1 + np.exp(-x)) for x in X]\n",
        "\n",
        "def sigd(X):\n",
        "  output = []\n",
        "  for i, x in enumerate(X):\n",
        "    s = sig([x])[0]\n",
        "    output.append(s * (1 - s))\n",
        "  return output"
      ]
    },
    {
      "cell_type": "markdown",
      "metadata": {
        "id": "lj6V3lI5cF2Q"
      },
      "source": [
        "## Soal"
      ]
    },
    {
      "cell_type": "code",
      "execution_count": 7,
      "metadata": {},
      "outputs": [],
      "source": [
        "import pandas as pd"
      ]
    },
    {
      "cell_type": "code",
      "execution_count": 8,
      "metadata": {
        "colab": {
          "base_uri": "https://localhost:8080/",
          "height": 414
        },
        "id": "5RONGhxEbapK",
        "outputId": "815fd89b-e65b-4617-e0b0-074371bc7c96"
      },
      "outputs": [
        {
          "data": {
            "text/html": [
              "<div>\n",
              "<style scoped>\n",
              "    .dataframe tbody tr th:only-of-type {\n",
              "        vertical-align: middle;\n",
              "    }\n",
              "\n",
              "    .dataframe tbody tr th {\n",
              "        vertical-align: top;\n",
              "    }\n",
              "\n",
              "    .dataframe thead th {\n",
              "        text-align: right;\n",
              "    }\n",
              "</style>\n",
              "<table border=\"1\" class=\"dataframe\">\n",
              "  <thead>\n",
              "    <tr style=\"text-align: right;\">\n",
              "      <th></th>\n",
              "      <th>sepallength</th>\n",
              "      <th>sepalwidth</th>\n",
              "      <th>petallength</th>\n",
              "      <th>petalwidth</th>\n",
              "      <th>class</th>\n",
              "    </tr>\n",
              "  </thead>\n",
              "  <tbody>\n",
              "    <tr>\n",
              "      <th>0</th>\n",
              "      <td>5.1</td>\n",
              "      <td>3.5</td>\n",
              "      <td>1.4</td>\n",
              "      <td>0.2</td>\n",
              "      <td>Iris-setosa</td>\n",
              "    </tr>\n",
              "    <tr>\n",
              "      <th>1</th>\n",
              "      <td>4.9</td>\n",
              "      <td>3.0</td>\n",
              "      <td>1.4</td>\n",
              "      <td>0.2</td>\n",
              "      <td>Iris-setosa</td>\n",
              "    </tr>\n",
              "    <tr>\n",
              "      <th>2</th>\n",
              "      <td>4.7</td>\n",
              "      <td>3.2</td>\n",
              "      <td>1.3</td>\n",
              "      <td>0.2</td>\n",
              "      <td>Iris-setosa</td>\n",
              "    </tr>\n",
              "    <tr>\n",
              "      <th>3</th>\n",
              "      <td>4.6</td>\n",
              "      <td>3.1</td>\n",
              "      <td>1.5</td>\n",
              "      <td>0.2</td>\n",
              "      <td>Iris-setosa</td>\n",
              "    </tr>\n",
              "    <tr>\n",
              "      <th>4</th>\n",
              "      <td>5.0</td>\n",
              "      <td>3.6</td>\n",
              "      <td>1.4</td>\n",
              "      <td>0.2</td>\n",
              "      <td>Iris-setosa</td>\n",
              "    </tr>\n",
              "  </tbody>\n",
              "</table>\n",
              "</div>"
            ],
            "text/plain": [
              "   sepallength  sepalwidth  petallength  petalwidth        class\n",
              "0          5.1         3.5          1.4         0.2  Iris-setosa\n",
              "1          4.9         3.0          1.4         0.2  Iris-setosa\n",
              "2          4.7         3.2          1.3         0.2  Iris-setosa\n",
              "3          4.6         3.1          1.5         0.2  Iris-setosa\n",
              "4          5.0         3.6          1.4         0.2  Iris-setosa"
            ]
          },
          "execution_count": 8,
          "metadata": {},
          "output_type": "execute_result"
        }
      ],
      "source": [
        "df = pd.read_csv('data/iris.csv')\n",
        "df.head()"
      ]
    },
    {
      "cell_type": "code",
      "execution_count": 9,
      "metadata": {
        "colab": {
          "base_uri": "https://localhost:8080/"
        },
        "id": "E1jx5Ouweb9-",
        "outputId": "0d831589-41ef-4a2b-b291-73dd55541d6d"
      },
      "outputs": [
        {
          "data": {
            "text/plain": [
              "0         Iris-setosa\n",
              "1         Iris-setosa\n",
              "2         Iris-setosa\n",
              "3         Iris-setosa\n",
              "4         Iris-setosa\n",
              "            ...      \n",
              "145    Iris-virginica\n",
              "146    Iris-virginica\n",
              "147    Iris-virginica\n",
              "148    Iris-virginica\n",
              "149    Iris-virginica\n",
              "Name: class, Length: 150, dtype: string"
            ]
          },
          "execution_count": 9,
          "metadata": {},
          "output_type": "execute_result"
        }
      ],
      "source": [
        "kelas = df[df.columns[-1]].astype('string')\n",
        "kelas"
      ]
    },
    {
      "cell_type": "markdown",
      "metadata": {
        "id": "QVhRFfhpdPI2"
      },
      "source": [
        "### Binary encoder & decoder"
      ]
    },
    {
      "cell_type": "code",
      "execution_count": 10,
      "metadata": {
        "id": "aMChzjdlcxQ6"
      },
      "outputs": [],
      "source": [
        "def bin_enc_str(kelas):\n",
        "  lbl_num = pd.factorize(kelas)[0]\n",
        "  lbl_rev = pd.factorize(kelas)[1]\n",
        "  mi = min(lbl_num)\n",
        "  length = len(bin(max(lbl_num) - mi + 1)[2:])\n",
        "  enc = []\n",
        "  for i in lbl_num:\n",
        "    b = bin(i - mi)[2:].zfill(length)\n",
        "    enc.append([int(n) for n in b])\n",
        "  return enc,lbl_rev\n",
        "\n",
        "def bin_dec_str(enc,lbl_rev,mi=0):\n",
        "  lbl = []\n",
        "  lbl_str = []\n",
        "  for e in enc:\n",
        "    rounded = [int(round(x)) for x in e]\n",
        "    string = ''.join(str(x) for x in rounded)\n",
        "    num = int(string, 2) + mi\n",
        "    lbl.append(num)\n",
        "  for xx in range(len(lbl)):\n",
        "    lbl_str.append(pd.factorize(lbl_rev)[1][lbl[xx]])\n",
        "  return lbl_str"
      ]
    },
    {
      "cell_type": "markdown",
      "metadata": {
        "id": "7G0e6tfWe1Ok"
      },
      "source": [
        "### Percobaan binary encoding & decoder"
      ]
    },
    {
      "cell_type": "code",
      "execution_count": 11,
      "metadata": {
        "colab": {
          "base_uri": "https://localhost:8080/"
        },
        "id": "bMEEwWp6fOMJ",
        "outputId": "a6d43f63-7185-4b32-8d16-a55ad7645ea0"
      },
      "outputs": [],
      "source": [
        "enc_bin,lbl = bin_enc_str(kelas)\n",
        "dec_bin = bin_dec_str(enc_bin,lbl)"
      ]
    },
    {
      "cell_type": "code",
      "execution_count": 14,
      "metadata": {},
      "outputs": [
        {
          "data": {
            "text/html": [
              "<div>\n",
              "<style scoped>\n",
              "    .dataframe tbody tr th:only-of-type {\n",
              "        vertical-align: middle;\n",
              "    }\n",
              "\n",
              "    .dataframe tbody tr th {\n",
              "        vertical-align: top;\n",
              "    }\n",
              "\n",
              "    .dataframe thead th {\n",
              "        text-align: right;\n",
              "    }\n",
              "</style>\n",
              "<table border=\"1\" class=\"dataframe\">\n",
              "  <thead>\n",
              "    <tr style=\"text-align: right;\">\n",
              "      <th></th>\n",
              "      <th>0</th>\n",
              "      <th>1</th>\n",
              "      <th>kelas</th>\n",
              "    </tr>\n",
              "  </thead>\n",
              "  <tbody>\n",
              "    <tr>\n",
              "      <th>0</th>\n",
              "      <td>0</td>\n",
              "      <td>0</td>\n",
              "      <td>Iris-setosa</td>\n",
              "    </tr>\n",
              "    <tr>\n",
              "      <th>1</th>\n",
              "      <td>0</td>\n",
              "      <td>0</td>\n",
              "      <td>Iris-setosa</td>\n",
              "    </tr>\n",
              "    <tr>\n",
              "      <th>2</th>\n",
              "      <td>0</td>\n",
              "      <td>0</td>\n",
              "      <td>Iris-setosa</td>\n",
              "    </tr>\n",
              "    <tr>\n",
              "      <th>3</th>\n",
              "      <td>0</td>\n",
              "      <td>0</td>\n",
              "      <td>Iris-setosa</td>\n",
              "    </tr>\n",
              "    <tr>\n",
              "      <th>4</th>\n",
              "      <td>0</td>\n",
              "      <td>0</td>\n",
              "      <td>Iris-setosa</td>\n",
              "    </tr>\n",
              "    <tr>\n",
              "      <th>...</th>\n",
              "      <td>...</td>\n",
              "      <td>...</td>\n",
              "      <td>...</td>\n",
              "    </tr>\n",
              "    <tr>\n",
              "      <th>145</th>\n",
              "      <td>1</td>\n",
              "      <td>0</td>\n",
              "      <td>Iris-virginica</td>\n",
              "    </tr>\n",
              "    <tr>\n",
              "      <th>146</th>\n",
              "      <td>1</td>\n",
              "      <td>0</td>\n",
              "      <td>Iris-virginica</td>\n",
              "    </tr>\n",
              "    <tr>\n",
              "      <th>147</th>\n",
              "      <td>1</td>\n",
              "      <td>0</td>\n",
              "      <td>Iris-virginica</td>\n",
              "    </tr>\n",
              "    <tr>\n",
              "      <th>148</th>\n",
              "      <td>1</td>\n",
              "      <td>0</td>\n",
              "      <td>Iris-virginica</td>\n",
              "    </tr>\n",
              "    <tr>\n",
              "      <th>149</th>\n",
              "      <td>1</td>\n",
              "      <td>0</td>\n",
              "      <td>Iris-virginica</td>\n",
              "    </tr>\n",
              "  </tbody>\n",
              "</table>\n",
              "<p>150 rows × 3 columns</p>\n",
              "</div>"
            ],
            "text/plain": [
              "     0  1           kelas\n",
              "0    0  0     Iris-setosa\n",
              "1    0  0     Iris-setosa\n",
              "2    0  0     Iris-setosa\n",
              "3    0  0     Iris-setosa\n",
              "4    0  0     Iris-setosa\n",
              "..  .. ..             ...\n",
              "145  1  0  Iris-virginica\n",
              "146  1  0  Iris-virginica\n",
              "147  1  0  Iris-virginica\n",
              "148  1  0  Iris-virginica\n",
              "149  1  0  Iris-virginica\n",
              "\n",
              "[150 rows x 3 columns]"
            ]
          },
          "execution_count": 14,
          "metadata": {},
          "output_type": "execute_result"
        }
      ],
      "source": [
        "df_bin = pd.concat([pd.DataFrame(enc_bin).reset_index(drop=True),pd.DataFrame(dec_bin,columns=['kelas']).reset_index(drop=True)], axis = 1)\n",
        "df_bin"
      ]
    },
    {
      "cell_type": "markdown",
      "metadata": {
        "id": "3wShTNQonRPe"
      },
      "source": [
        "### One-hot encoder-decoder"
      ]
    },
    {
      "cell_type": "code",
      "execution_count": 16,
      "metadata": {
        "id": "O3XYg7vLiPEI"
      },
      "outputs": [],
      "source": [
        "import numpy as np\n",
        "import pandas as pd\n",
        "def onehot_enc_str(lbl, min_val=0):\n",
        "  lbl_num = pd.factorize(lbl)[0]\n",
        "  lbl_rev = pd.factorize(lbl)[1]\n",
        "  mi = min(lbl_num)\n",
        "  enc = np.full((len(lbl_num), max(lbl_num) - mi + 1), min_val,np.int8)\n",
        "  for i, x in enumerate(lbl_num):\n",
        "    enc[i, x - mi] = 1\n",
        "  return enc,lbl_num,lbl_rev\n",
        "\n",
        "def onehot_dec_str(enc,lbl_rev,mi=0):\n",
        "  lbl = []\n",
        "  decode_number = []\n",
        "  for e in enc:\n",
        "    decode_number.append(np.argmax(e) + mi)\n",
        "  for xx in range(len(decode_number)):\n",
        "    lbl.append(pd.factorize(lbl_rev)[1][decode_number[xx]])\n",
        "  return lbl"
      ]
    },
    {
      "cell_type": "markdown",
      "metadata": {
        "id": "yzf43FD4nXCO"
      },
      "source": [
        "### Percobaan one-hot encoder & decoder"
      ]
    },
    {
      "cell_type": "code",
      "execution_count": 18,
      "metadata": {
        "colab": {
          "base_uri": "https://localhost:8080/"
        },
        "id": "wiUh8AeNiWoQ",
        "outputId": "497332a4-9db2-4552-be51-a2d5bc32ce88"
      },
      "outputs": [],
      "source": [
        "enc_oh,lbl_num,lbl_rev = onehot_enc_str(kelas)\n",
        "dec_oh = onehot_dec_str(enc_oh,lbl_rev,min(lbl_num))"
      ]
    },
    {
      "cell_type": "code",
      "execution_count": 20,
      "metadata": {},
      "outputs": [
        {
          "data": {
            "text/html": [
              "<div>\n",
              "<style scoped>\n",
              "    .dataframe tbody tr th:only-of-type {\n",
              "        vertical-align: middle;\n",
              "    }\n",
              "\n",
              "    .dataframe tbody tr th {\n",
              "        vertical-align: top;\n",
              "    }\n",
              "\n",
              "    .dataframe thead th {\n",
              "        text-align: right;\n",
              "    }\n",
              "</style>\n",
              "<table border=\"1\" class=\"dataframe\">\n",
              "  <thead>\n",
              "    <tr style=\"text-align: right;\">\n",
              "      <th></th>\n",
              "      <th>0</th>\n",
              "      <th>1</th>\n",
              "      <th>2</th>\n",
              "      <th>kelas</th>\n",
              "    </tr>\n",
              "  </thead>\n",
              "  <tbody>\n",
              "    <tr>\n",
              "      <th>0</th>\n",
              "      <td>1</td>\n",
              "      <td>0</td>\n",
              "      <td>0</td>\n",
              "      <td>Iris-setosa</td>\n",
              "    </tr>\n",
              "    <tr>\n",
              "      <th>1</th>\n",
              "      <td>1</td>\n",
              "      <td>0</td>\n",
              "      <td>0</td>\n",
              "      <td>Iris-setosa</td>\n",
              "    </tr>\n",
              "    <tr>\n",
              "      <th>2</th>\n",
              "      <td>1</td>\n",
              "      <td>0</td>\n",
              "      <td>0</td>\n",
              "      <td>Iris-setosa</td>\n",
              "    </tr>\n",
              "    <tr>\n",
              "      <th>3</th>\n",
              "      <td>1</td>\n",
              "      <td>0</td>\n",
              "      <td>0</td>\n",
              "      <td>Iris-setosa</td>\n",
              "    </tr>\n",
              "    <tr>\n",
              "      <th>4</th>\n",
              "      <td>1</td>\n",
              "      <td>0</td>\n",
              "      <td>0</td>\n",
              "      <td>Iris-setosa</td>\n",
              "    </tr>\n",
              "    <tr>\n",
              "      <th>...</th>\n",
              "      <td>...</td>\n",
              "      <td>...</td>\n",
              "      <td>...</td>\n",
              "      <td>...</td>\n",
              "    </tr>\n",
              "    <tr>\n",
              "      <th>145</th>\n",
              "      <td>0</td>\n",
              "      <td>0</td>\n",
              "      <td>1</td>\n",
              "      <td>Iris-virginica</td>\n",
              "    </tr>\n",
              "    <tr>\n",
              "      <th>146</th>\n",
              "      <td>0</td>\n",
              "      <td>0</td>\n",
              "      <td>1</td>\n",
              "      <td>Iris-virginica</td>\n",
              "    </tr>\n",
              "    <tr>\n",
              "      <th>147</th>\n",
              "      <td>0</td>\n",
              "      <td>0</td>\n",
              "      <td>1</td>\n",
              "      <td>Iris-virginica</td>\n",
              "    </tr>\n",
              "    <tr>\n",
              "      <th>148</th>\n",
              "      <td>0</td>\n",
              "      <td>0</td>\n",
              "      <td>1</td>\n",
              "      <td>Iris-virginica</td>\n",
              "    </tr>\n",
              "    <tr>\n",
              "      <th>149</th>\n",
              "      <td>0</td>\n",
              "      <td>0</td>\n",
              "      <td>1</td>\n",
              "      <td>Iris-virginica</td>\n",
              "    </tr>\n",
              "  </tbody>\n",
              "</table>\n",
              "<p>150 rows × 4 columns</p>\n",
              "</div>"
            ],
            "text/plain": [
              "     0  1  2           kelas\n",
              "0    1  0  0     Iris-setosa\n",
              "1    1  0  0     Iris-setosa\n",
              "2    1  0  0     Iris-setosa\n",
              "3    1  0  0     Iris-setosa\n",
              "4    1  0  0     Iris-setosa\n",
              "..  .. .. ..             ...\n",
              "145  0  0  1  Iris-virginica\n",
              "146  0  0  1  Iris-virginica\n",
              "147  0  0  1  Iris-virginica\n",
              "148  0  0  1  Iris-virginica\n",
              "149  0  0  1  Iris-virginica\n",
              "\n",
              "[150 rows x 4 columns]"
            ]
          },
          "execution_count": 20,
          "metadata": {},
          "output_type": "execute_result"
        }
      ],
      "source": [
        "df_oh = pd.concat([pd.DataFrame(enc_oh).reset_index(drop=True),pd.DataFrame(dec_oh,columns=['kelas']).reset_index(drop=True)], axis = 1)\n",
        "df_oh"
      ]
    }
  ],
  "metadata": {
    "colab": {
      "provenance": []
    },
    "kernelspec": {
      "display_name": "Python 3.9.7 64-bit",
      "language": "python",
      "name": "python3"
    },
    "language_info": {
      "codemirror_mode": {
        "name": "ipython",
        "version": 3
      },
      "file_extension": ".py",
      "mimetype": "text/x-python",
      "name": "python",
      "nbconvert_exporter": "python",
      "pygments_lexer": "ipython3",
      "version": "3.9.7"
    },
    "vscode": {
      "interpreter": {
        "hash": "491627a4fc731919225a74fe1d545c8f56a0e4475e4af57e9541110a388ab038"
      }
    }
  },
  "nbformat": 4,
  "nbformat_minor": 0
}
