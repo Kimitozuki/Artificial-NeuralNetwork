{
  "cells": [
    {
      "cell_type": "markdown",
      "metadata": {
        "id": "byCqv83shQCL"
      },
      "source": [
        "# Extreme Learning Machine"
      ]
    },
    {
      "cell_type": "markdown",
      "metadata": {
        "id": "NsVcxHY3hXmp"
      },
      "source": [
        "### a) Fungsi *Training* ELM"
      ]
    },
    {
      "cell_type": "code",
      "execution_count": 1,
      "metadata": {
        "id": "e-MMwRu4X2l9"
      },
      "outputs": [],
      "source": [
        "import time\n",
        "import numpy as np\n",
        "\n",
        "def elm_fit(X, target, h, W=None):\n",
        "  start_time = time.time()\n",
        "  if W is None:\n",
        "    W = np.random.uniform(-.1, .1, (h, len(X[0])))\n",
        "  Hinit = X @ W.T\n",
        "  H = 1 / (1 + np.exp(-Hinit))\n",
        "  Ht = H.T\n",
        "  Hp = np.linalg.inv(Ht @ H) @ Ht\n",
        "  beta = Hp @ target\n",
        "  y = H @ beta\n",
        "  mape = sum(abs(y - target) / target) * 100 / len(target)\n",
        "  execution = time.time() - start_time\n",
        "  print(\"Waktu eksekusi: %s detik\" % execution)\n",
        "  \n",
        "  return W, beta, mape"
      ]
    },
    {
      "cell_type": "markdown",
      "metadata": {
        "id": "XoExC4mvhhpx"
      },
      "source": [
        "### b) Fungsi *Testing* ELM"
      ]
    },
    {
      "cell_type": "code",
      "execution_count": 2,
      "metadata": {
        "id": "a9D6sNqAY69J"
      },
      "outputs": [],
      "source": [
        "def elm_predict(X, W, b, round_output=False):\n",
        "  Hinit = X @ W.T\n",
        "  H = 1 / (1 + np.exp(-Hinit))\n",
        "  y = H @ b\n",
        "  if round_output:\n",
        "    y = [int(round(x)) for x in y]\n",
        "  return y"
      ]
    },
    {
      "cell_type": "markdown",
      "metadata": {
        "id": "kI2KK12VhnIY"
      },
      "source": [
        "### c) Klasifikasi *Dataset* Iris"
      ]
    },
    {
      "cell_type": "code",
      "execution_count": 14,
      "metadata": {
        "colab": {
          "base_uri": "https://localhost:8080/"
        },
        "id": "dIsmqwxnZLWE",
        "outputId": "78de7bfa-991c-4f0e-f304-372b9f5fb793"
      },
      "outputs": [
        {
          "name": "stdout",
          "output_type": "stream",
          "text": [
            "Waktu eksekusi: 0.0009982585906982422 detik\n",
            "MAPE: 19.712365950299546\n",
            "Output: [2, 2, 2, 3, 1, 3, 1, 3, 3, 2, 3, 2, 2, 2, 2, 1, 2, 2, 1, 1, 2, 2, 1, 1, 2, 1, 2, 2, 1, 1, 3, 2, 1, 2, 3, 2, 2, 2, 2, 2, 3, 1, 3, 1, 2]\n",
            "True : [3 2 1 3 1 3 1 2 2 2 3 2 2 2 2 1 2 2 1 1 3 2 1 1 3 1 1 2 2 1 3 2 1 3 3 2 1\n",
            " 2 2 2 3 1 3 1 1]\n",
            "Accuracy: 0.7555555555555555\n",
            "\n",
            "Waktu eksekusi: 0.0009975433349609375 detik\n",
            "MAPE: 7.6465389789151414\n",
            "Output: [3, 2, 1, 3, 1, 3, 1, 2, 2, 2, 3, 2, 2, 2, 2, 1, 2, 2, 1, 1, 3, 2, 1, 1, 3, 1, 1, 2, 2, 1, 3, 2, 1, 3, 3, 2, 1, 3, 2, 2, 3, 1, 3, 1, 1]\n",
            "True : [3 2 1 3 1 3 1 2 2 2 3 2 2 2 2 1 2 2 1 1 3 2 1 1 3 1 1 2 2 1 3 2 1 3 3 2 1\n",
            " 2 2 2 3 1 3 1 1]\n",
            "Accuracy: 0.9777777777777777\n",
            "\n",
            "Waktu eksekusi: 0.000997781753540039 detik\n",
            "MAPE: 7.665476622636459\n",
            "Output: [3, 2, 1, 3, 1, 3, 1, 2, 2, 2, 3, 2, 2, 2, 2, 1, 2, 2, 1, 1, 3, 2, 1, 1, 3, 1, 1, 2, 2, 1, 3, 2, 1, 3, 3, 2, 1, 3, 2, 2, 3, 1, 3, 1, 1]\n",
            "True : [3 2 1 3 1 3 1 2 2 2 3 2 2 2 2 1 2 2 1 1 3 2 1 1 3 1 1 2 2 1 3 2 1 3 3 2 1\n",
            " 2 2 2 3 1 3 1 1]\n",
            "Accuracy: 0.9777777777777777\n",
            "\n",
            "Waktu eksekusi: 0.000997304916381836 detik\n",
            "MAPE: 6.686460075586743\n",
            "Output: [4, 2, 1, 3, 1, 3, 1, 2, 2, 2, 3, 2, 2, 2, 2, 1, 2, 2, 1, 1, 3, 2, 1, 1, 3, 1, 1, 2, 2, 1, 3, 2, 1, 3, 3, 2, 1, 3, 2, 2, 3, 1, 3, 1, 1]\n",
            "True : [3 2 1 3 1 3 1 2 2 2 3 2 2 2 2 1 2 2 1 1 3 2 1 1 3 1 1 2 2 1 3 2 1 3 3 2 1\n",
            " 2 2 2 3 1 3 1 1]\n",
            "Accuracy: 0.9555555555555556\n",
            "\n",
            "Waktu eksekusi: 0.0019943714141845703 detik\n",
            "MAPE: 199.8118204891401\n",
            "Output: [4, 5, 4, 7, 4, 7, 4, 5, 6, 5, 7, 5, 6, 6, 6, 4, 6, 6, 4, 4, 6, 6, 4, 4, 6, 5, 4, 5, 5, 4, 6, 6, 4, 6, 7, 6, 4, 6, 6, 5, 6, 4, 7, 5, 4]\n",
            "True : [3 2 1 3 1 3 1 2 2 2 3 2 2 2 2 1 2 2 1 1 3 2 1 1 3 1 1 2 2 1 3 2 1 3 3 2 1\n",
            " 2 2 2 3 1 3 1 1]\n",
            "Accuracy: 0.0\n",
            "\n"
          ]
        }
      ],
      "source": [
        "from sklearn import datasets\n",
        "from sklearn.model_selection import train_test_split\n",
        "from sklearn.preprocessing import minmax_scale\n",
        "from sklearn.metrics import accuracy_score\n",
        "\n",
        "iris = datasets.load_iris()\n",
        "X = minmax_scale(iris.data)\n",
        "Y = iris.target\n",
        "Y += 1\n",
        "X_train, X_test, y_train, y_test = train_test_split(X, Y,test_size=.3,random_state=0)\n",
        "W, b, mape = elm_fit(X_train, y_train, 3)\n",
        "\n",
        "print('MAPE:', mape)\n",
        "output = elm_predict(X_test, W, b, round_output=True)\n",
        "accuracy = accuracy_score(output, y_test)\n",
        "print('Output:', output)\n",
        "print('True :', y_test)\n",
        "print('Accuracy:', accuracy)"
      ]
    }
  ],
  "metadata": {
    "colab": {
      "provenance": []
    },
    "kernelspec": {
      "display_name": "Python 3.9.7 64-bit",
      "language": "python",
      "name": "python3"
    },
    "language_info": {
      "codemirror_mode": {
        "name": "ipython",
        "version": 3
      },
      "file_extension": ".py",
      "mimetype": "text/x-python",
      "name": "python",
      "nbconvert_exporter": "python",
      "pygments_lexer": "ipython3",
      "version": "3.9.7"
    },
    "vscode": {
      "interpreter": {
        "hash": "491627a4fc731919225a74fe1d545c8f56a0e4475e4af57e9541110a388ab038"
      }
    }
  },
  "nbformat": 4,
  "nbformat_minor": 0
}
