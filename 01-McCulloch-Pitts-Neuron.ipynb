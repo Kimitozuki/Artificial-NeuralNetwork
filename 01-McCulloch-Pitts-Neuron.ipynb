{
  "cells": [
    {
      "cell_type": "markdown",
      "metadata": {
        "id": "9nBMRPjzYQM_"
      },
      "source": [
        "# Praktikum Jaringan Saraf Tiruan\n",
        "# Bab 1 McCulloch-Pitts Neuron"
      ]
    },
    {
      "cell_type": "markdown",
      "metadata": {
        "id": "WLV69evv93z6"
      },
      "source": [
        "## Praktikum"
      ]
    },
    {
      "cell_type": "markdown",
      "metadata": {
        "id": "TH2WWbKOYbfi"
      },
      "source": [
        "### a) Fungsi *Step* Biner\n",
        "\n",
        "Tulis kode ke dalam *cell* di bawah ini:"
      ]
    },
    {
      "cell_type": "code",
      "execution_count": 20,
      "metadata": {
        "id": "bIJkBSh2Wagw"
      },
      "outputs": [],
      "source": [
        "def binstep(x, th=0):\n",
        "  if (x >= th):\n",
        "    return 1\n",
        "  return 0"
      ]
    },
    {
      "cell_type": "markdown",
      "metadata": {
        "id": "hqsbbVnjbQg8"
      },
      "source": [
        "### b) Fungsi McCulloch-Pitts (MCP) Neuron\n",
        "\n",
        "Tulis kode ke dalam *cell* di bawah ini:"
      ]
    },
    {
      "cell_type": "code",
      "execution_count": 21,
      "metadata": {
        "id": "1ib6LYBRbRDF"
      },
      "outputs": [],
      "source": [
        "import numpy as np\n",
        "\n",
        "def MCP(x, w, th):\n",
        "  y_in = np.dot(x, w)\n",
        "  y_out = binstep(y_in, th)\n",
        "\n",
        "  return y_out"
      ]
    },
    {
      "cell_type": "markdown",
      "metadata": {
        "id": "u-cpofdCfNUI"
      },
      "source": [
        "### c) Fungsi Hitung Akurasi"
      ]
    },
    {
      "cell_type": "code",
      "execution_count": 22,
      "metadata": {
        "id": "ZXiZ_tEhfQQb"
      },
      "outputs": [],
      "source": [
        "def calc(a, b):\n",
        "  sumlen = 0\n",
        "\n",
        "  for i in range(len(a)):\n",
        "    if a[i] == b[i]:\n",
        "      sumlen += 1\n",
        "  \n",
        "  return sumlen/len(a)"
      ]
    },
    {
      "cell_type": "markdown",
      "metadata": {
        "id": "yucbIRQSfs4l"
      },
      "source": [
        "### d) Fungsi Logika AND\n",
        "\n",
        "Tulis kode ke dalam *cell* di bawah ini:"
      ]
    },
    {
      "cell_type": "code",
      "execution_count": 23,
      "metadata": {
        "id": "NiNa336XfzuU"
      },
      "outputs": [],
      "source": [
        "def AND(X):\n",
        "  w = 1, 1\n",
        "  th = 2\n",
        "  y = [MCP(i, w, th) for i in X]\n",
        "\n",
        "  return y"
      ]
    },
    {
      "cell_type": "markdown",
      "metadata": {
        "id": "6WFr1QxJhA8z"
      },
      "source": [
        "### e) Eksekusi Logika AND\n",
        "\n",
        "Tulis kode ke dalam *cell* di bawah ini:"
      ]
    },
    {
      "cell_type": "code",
      "execution_count": 24,
      "metadata": {
        "colab": {
          "base_uri": "https://localhost:8080/"
        },
        "id": "2racFwUKhGhw",
        "outputId": "7277c443-c873-41b2-d7d8-198d14cc0ae9"
      },
      "outputs": [
        {
          "name": "stdout",
          "output_type": "stream",
          "text": [
            "[0, 0, 0, 1]\n",
            "(0, 0, 0, 1)\n",
            "1.0\n"
          ]
        }
      ],
      "source": [
        "data = (0, 0), (0, 1), (1, 0), (1, 1)\n",
        "output = AND(data)\n",
        "true = 0,0,0,1\n",
        "acc = calc(output, true)\n",
        "\n",
        "print(output)\n",
        "print(true)\n",
        "print(acc)"
      ]
    },
    {
      "cell_type": "markdown",
      "metadata": {
        "id": "8yH-wMNUuLnh"
      },
      "source": [
        "### f) Fungsi Logika OR\n",
        "\n",
        "Tulis kode ke dalam *cell* di bawah ini:"
      ]
    },
    {
      "cell_type": "code",
      "execution_count": 25,
      "metadata": {
        "id": "VQ051x3e8Fni"
      },
      "outputs": [],
      "source": [
        "def OR(X):\n",
        "  w = 2, 2\n",
        "  th = 2\n",
        "  y = [MCP(i, w, th) for i in X]\n",
        "\n",
        "  return y"
      ]
    },
    {
      "cell_type": "markdown",
      "metadata": {
        "id": "WMBtCgmz8F9V"
      },
      "source": [
        "### g)\tEksekusi Logika OR\n",
        "\n",
        "Tulis kode ke dalam *cell* di bawah ini:"
      ]
    },
    {
      "cell_type": "code",
      "execution_count": 26,
      "metadata": {
        "colab": {
          "base_uri": "https://localhost:8080/"
        },
        "id": "Cjq7S2ax8IHu",
        "outputId": "62f3a051-095a-4eb0-dcb3-3d2d3e4134c2"
      },
      "outputs": [
        {
          "name": "stdout",
          "output_type": "stream",
          "text": [
            "[0, 1, 1, 1]\n",
            "(0, 1, 1, 1)\n",
            "1.0\n"
          ]
        }
      ],
      "source": [
        "data = (0, 0), (0, 1), (1, 0), (1, 1)\n",
        "output = OR(data)\n",
        "true = 0,1,1,1\n",
        "acc = calc(output, true)\n",
        "\n",
        "print(output)\n",
        "print(true)\n",
        "print(acc)"
      ]
    },
    {
      "cell_type": "markdown",
      "metadata": {
        "id": "dg__TkVI8Ko9"
      },
      "source": [
        "### h) Logika AND NOT\n",
        "\n",
        "Tulis kode ke dalam *cell* di bawah ini:"
      ]
    },
    {
      "cell_type": "code",
      "execution_count": 27,
      "metadata": {
        "id": "EO-ZbanW8P6J"
      },
      "outputs": [],
      "source": [
        "def ANDN(X):\n",
        "  w = 2,-1\n",
        "  th = 2\n",
        "  y = [MCP(i, w, th) for i in X]\n",
        "  return y"
      ]
    },
    {
      "cell_type": "markdown",
      "metadata": {
        "id": "ybMvyiyN8RMS"
      },
      "source": [
        "### i) Eksekusi Logika AND NOT\n",
        "\n",
        "Tulis kode ke dalam *cell* di bawah ini:"
      ]
    },
    {
      "cell_type": "code",
      "execution_count": 28,
      "metadata": {
        "colab": {
          "base_uri": "https://localhost:8080/"
        },
        "id": "8Ccg-2UU8Ugk",
        "outputId": "1a6cd636-5d67-4098-be2f-d6b7faa674f6"
      },
      "outputs": [
        {
          "name": "stdout",
          "output_type": "stream",
          "text": [
            "[0, 0, 1, 0]\n",
            "(0, 0, 1, 0)\n",
            "1.0\n"
          ]
        }
      ],
      "source": [
        "input = (0,0), (0,1), (1,0), (1,1)\n",
        "out = ANDN(input)\n",
        "key = 0,0,1,0\n",
        "acc = calc(out, key)\n",
        "\n",
        "print(out)\n",
        "print(key)\n",
        "print(acc)"
      ]
    },
    {
      "cell_type": "markdown",
      "metadata": {
        "id": "pjx_Nnmw-Adv"
      },
      "source": [
        "### j) Fungsi Logika XOR\n",
        "\n",
        "Tulis kode ke dalam *cell* di bawah ini:"
      ]
    },
    {
      "cell_type": "code",
      "execution_count": 29,
      "metadata": {
        "id": "AN2gQc1A-FPf"
      },
      "outputs": [],
      "source": [
        "def XOR(X):\n",
        "  X = zip(ANDN(X), np.flip(ANDN(X)))\n",
        "  w = 2,2\n",
        "  th = 2\n",
        "  y = [MCP(i, w, th) for i in X]\n",
        "  return y"
      ]
    },
    {
      "cell_type": "markdown",
      "metadata": {
        "id": "BF6s1lFa-Fyf"
      },
      "source": [
        "### k) Eksekusi Logika XOR\n",
        "\n",
        "Tulis kode ke dalam *cell* di bawah ini:"
      ]
    },
    {
      "cell_type": "code",
      "execution_count": 30,
      "metadata": {
        "id": "DLbzE9yl-JFR"
      },
      "outputs": [
        {
          "name": "stdout",
          "output_type": "stream",
          "text": [
            "[0, 1, 1, 0]\n",
            "(0, 1, 1, 0)\n",
            "1.0\n"
          ]
        }
      ],
      "source": [
        "input = (0,0), (0,1), (1,0), (1,1)\n",
        "out = XOR(input)\n",
        "key = 0,1,1,0\n",
        "acc = calc(out, key)\n",
        "\n",
        "print(out)\n",
        "print(key)\n",
        "print(acc)"
      ]
    }
  ],
  "metadata": {
    "colab": {
      "collapsed_sections": [],
      "provenance": []
    },
    "interpreter": {
      "hash": "491627a4fc731919225a74fe1d545c8f56a0e4475e4af57e9541110a388ab038"
    },
    "kernelspec": {
      "display_name": "Python 3.9.7 64-bit",
      "language": "python",
      "name": "python3"
    },
    "language_info": {
      "codemirror_mode": {
        "name": "ipython",
        "version": 3
      },
      "file_extension": ".py",
      "mimetype": "text/x-python",
      "name": "python",
      "nbconvert_exporter": "python",
      "pygments_lexer": "ipython3",
      "version": "3.9.7"
    }
  },
  "nbformat": 4,
  "nbformat_minor": 0
}
