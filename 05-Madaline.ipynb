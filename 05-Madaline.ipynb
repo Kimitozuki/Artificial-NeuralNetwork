{
  "cells": [
    {
      "cell_type": "markdown",
      "metadata": {
        "id": "aLsVNuahNyLX"
      },
      "source": [
        "# Madaline"
      ]
    },
    {
      "cell_type": "markdown",
      "metadata": {
        "id": "BHsOsVtUNygd"
      },
      "source": [
        "## Praktikum"
      ]
    },
    {
      "cell_type": "markdown",
      "metadata": {
        "id": "iLSQhRDeWyO9"
      },
      "source": [
        "### a) Import modul \n",
        "Tulis kode ke dalam *cell* di bawah ini:\n"
      ]
    },
    {
      "cell_type": "code",
      "execution_count": 1,
      "metadata": {
        "id": "L7GAbOJcW7vD"
      },
      "outputs": [],
      "source": [
        "import numpy as np"
      ]
    },
    {
      "cell_type": "markdown",
      "metadata": {
        "id": "YO9WiMOEN3cD"
      },
      "source": [
        "### b) Fungsi Aktivasi\n",
        "\n",
        "Tulis kode ke dalam *cell* di bawah ini:"
      ]
    },
    {
      "cell_type": "code",
      "execution_count": 2,
      "metadata": {
        "id": "ulV5uF9zNwBG"
      },
      "outputs": [],
      "source": [
        "def aktivasi(x):\n",
        "  if x < 0:\n",
        "    return -1\n",
        "  else:\n",
        "    return 1"
      ]
    },
    {
      "cell_type": "markdown",
      "metadata": {
        "id": "4UV2JYGuFKwU"
      },
      "source": [
        "### c) Fungsi *Training* Madaline\n",
        "\n",
        "Tulis kode ke dalam *cell* di bawah ini:"
      ]
    },
    {
      "cell_type": "code",
      "execution_count": 3,
      "metadata": {
        "id": "Ucso7xGNFp0k"
      },
      "outputs": [],
      "source": [
        "def train(train_data,train_target,alpha=0.1,max_epoch=10):\n",
        "  w = np.random.random((2,2)) #Inisiasi Beban random dgn arr 2x2\n",
        "  v = np.array([0.5,0.5]) #Set bobot 0.5 hidden - output\n",
        "  b = np.random.random(2) #Set 2 bobot bias input - hidden\n",
        "  b = np.append(b,0.5) # Bobot 0.5, bias hidden - output\n",
        "  epoch = 0\n",
        "  v_aktivasi = np.vectorize(aktivasi)\n",
        "  weight_updated = True\n",
        "\n",
        "  while weight_updated == True and epoch < max_epoch:\n",
        "    weight_updated = False\n",
        "\n",
        "    for data,target in zip(train_data,train_target):\n",
        "      \n",
        "      z_in = np.dot(data,w)\n",
        "      z_in = z_in + b[:-1] \n",
        "      z = v_aktivasi(z_in) \n",
        "      \n",
        "      y_in = np.dot(z,v) + b[-1]\n",
        "      y = v_aktivasi(y_in)\n",
        "      if y!= target:\n",
        "        weight_updated = True\n",
        "        if target == 1:\n",
        "            index = np.argmin(np.abs(z_in))\n",
        "            b[index] = b[index] + alpha * (1 - z_in[index])\n",
        "            w[:, index] = w[:, index] + alpha * (1 - z_in[index])*data\n",
        "        elif target == -1:\n",
        "            index = np.where(z_in>0)[0]\n",
        "            if len(index) == 1:\n",
        "              index = index[0]\n",
        "            b[index] = b[index] + alpha * (-1 - z_in[index])\n",
        "            w[:, index] = w[:, index] + alpha * (-1 - z_in[index]) * data  \n",
        "    epoch = epoch + 1\n",
        "  return (w,v,b,epoch)"
      ]
    },
    {
      "cell_type": "markdown",
      "metadata": {
        "id": "xK7ORrumFyDw"
      },
      "source": [
        "### d) Fungsi *Testing* Adaline\n",
        "\n",
        "Tulis kode ke dalam *cell* di bawah ini:"
      ]
    },
    {
      "cell_type": "code",
      "execution_count": 4,
      "metadata": {
        "id": "oJCw9DgYF_ME"
      },
      "outputs": [],
      "source": [
        "def test(w,v,b,test_data):\n",
        "  v_aktivasi = np.vectorize(aktivasi)\n",
        "  z_in = np.dot(test_data, w)\n",
        "  z_in = z_in + b[:-1]\n",
        "  z = v_aktivasi(z_in)\n",
        "  y_in = np.dot(z, v) + b[-1]\n",
        "  y = v_aktivasi(y_in)\n",
        "  return y"
      ]
    },
    {
      "cell_type": "markdown",
      "metadata": {
        "id": "CplKg8gb0OAx"
      },
      "source": [
        "### e) Fungsi Hitung Akurasi\n",
        "\n",
        "Tulis kode ke dalam *cell* di bawah ini:"
      ]
    },
    {
      "cell_type": "code",
      "execution_count": 5,
      "metadata": {
        "id": "4XvvdMjR0P-X"
      },
      "outputs": [],
      "source": [
        "def calc_accuracy(a, b):\n",
        "  s = [1 if a[i] == b[i] else 0 for i in range(len(a))]\n",
        "  return sum(s) / len(a)"
      ]
    },
    {
      "cell_type": "markdown",
      "metadata": {
        "id": "AzVQKtKTFx9l"
      },
      "source": [
        "### f) Logika AND\n",
        "\n",
        "Tulis kode ke dalam *cell* di bawah ini:"
      ]
    },
    {
      "cell_type": "code",
      "execution_count": 6,
      "metadata": {
        "colab": {
          "base_uri": "https://localhost:8080/"
        },
        "id": "2d254SJzGKGu",
        "outputId": "5cbe3cc8-675f-4104-cc3b-f3399e1d3691"
      },
      "outputs": [
        {
          "name": "stdout",
          "output_type": "stream",
          "text": [
            "Epoch: 2\n",
            "Output: [ 1 -1 -1 -1]\n",
            "Target: [ 1 -1 -1 -1]\n",
            "Accuracy: 1.0\n"
          ]
        }
      ],
      "source": [
        "data = np.array([[1,1],[1,-1],[-1,1],[-1,-1]])\n",
        "target = np.array([1,-1,-1,-1])\n",
        "(w,v,b,epoch) = train(data,target,alpha=0.8,max_epoch=10)\n",
        "output = test(w,v,b,data)\n",
        "accuracy = calc_accuracy(output, target)\n",
        "print('Epoch:', epoch)\n",
        "print('Output:', output)\n",
        "print('Target:', target)\n",
        "print('Accuracy:', accuracy)"
      ]
    },
    {
      "cell_type": "markdown",
      "metadata": {
        "id": "xRK1QN-kGMFG"
      },
      "source": [
        "### g) Logika OR\n",
        "\n",
        "Tulis kode ke dalam *cell* di bawah ini:"
      ]
    },
    {
      "cell_type": "code",
      "execution_count": 7,
      "metadata": {
        "colab": {
          "base_uri": "https://localhost:8080/"
        },
        "id": "BvcGLITGGO2F",
        "outputId": "e9ce6e20-6c21-4786-bd80-a63af68b95df"
      },
      "outputs": [
        {
          "name": "stdout",
          "output_type": "stream",
          "text": [
            "Epoch: 2\n",
            "Output: [ 1  1  1 -1]\n",
            "Target: [ 1  1  1 -1]\n",
            "Accuracy: 1.0\n"
          ]
        }
      ],
      "source": [
        "data = np.array([[1,1],[1,-1],[-1,1],[-1,-1]])\n",
        "target = np.array([1,1,1,-1])\n",
        "(w,v,b,epoch) = train(data,target,alpha=0.2,max_epoch=10)\n",
        "output = test(w,v,b,data)\n",
        "accuracy = calc_accuracy(output, target)\n",
        "print('Epoch:', epoch)\n",
        "print('Output:', output)\n",
        "print('Target:', target)\n",
        "print('Accuracy:', accuracy)"
      ]
    },
    {
      "cell_type": "markdown",
      "metadata": {},
      "source": [
        "### H) Logika XOR"
      ]
    },
    {
      "cell_type": "code",
      "execution_count": 8,
      "metadata": {},
      "outputs": [
        {
          "name": "stdout",
          "output_type": "stream",
          "text": [
            "Epoch: 3\n",
            "Output: [-1  1  1 -1]\n",
            "Target: [-1  1  1 -1]\n",
            "Accuracy: 1.0\n"
          ]
        }
      ],
      "source": [
        "data = np.array([[1,1],[1,-1],[-1,1],[-1,-1]])\n",
        "target = np.array([-1,1,1,-1])\n",
        "(w,v,b,epoch) = train(data,target,alpha=0.2,max_epoch=10)\n",
        "output = test(w,v,b,data)\n",
        "accuracy = calc_accuracy(output, target)\n",
        "print('Epoch:', epoch)\n",
        "print('Output:', output)\n",
        "print('Target:', target)\n",
        "print('Accuracy:', accuracy)"
      ]
    },
    {
      "cell_type": "markdown",
      "metadata": {},
      "source": [
        "### Playground"
      ]
    },
    {
      "cell_type": "code",
      "execution_count": 9,
      "metadata": {},
      "outputs": [
        {
          "name": "stdout",
          "output_type": "stream",
          "text": [
            "Epoch: 4\n",
            "Output: [-1 -1  1  1]\n",
            "Target: [-1 -1  1  1]\n",
            "Accuracy: 1.0\n"
          ]
        }
      ],
      "source": [
        "data = np.array([[-1,.5], [.5,.3], [1,1.5], [3,1.9]])\n",
        "target = np.array([-1,-1,1,1])\n",
        "(w,v,b,epoch) = train(data,target,alpha=0.2,max_epoch=40)\n",
        "output = test(w,v,b,data)\n",
        "accuracy = calc_accuracy(output, target)\n",
        "print('Epoch:', epoch)\n",
        "print('Output:', output)\n",
        "print('Target:', target)\n",
        "print('Accuracy:', accuracy)"
      ]
    }
  ],
  "metadata": {
    "colab": {
      "collapsed_sections": [],
      "provenance": [],
      "toc_visible": true
    },
    "kernelspec": {
      "display_name": "Python 3.9.7 64-bit",
      "language": "python",
      "name": "python3"
    },
    "language_info": {
      "codemirror_mode": {
        "name": "ipython",
        "version": 3
      },
      "file_extension": ".py",
      "mimetype": "text/x-python",
      "name": "python",
      "nbconvert_exporter": "python",
      "pygments_lexer": "ipython3",
      "version": "3.9.7"
    },
    "vscode": {
      "interpreter": {
        "hash": "491627a4fc731919225a74fe1d545c8f56a0e4475e4af57e9541110a388ab038"
      }
    }
  },
  "nbformat": 4,
  "nbformat_minor": 0
}
